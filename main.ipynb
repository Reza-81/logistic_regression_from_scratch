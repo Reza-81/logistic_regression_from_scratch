{
 "cells": [
  {
   "cell_type": "markdown",
   "id": "edce444f-1354-4d8b-81f1-da331ed079d2",
   "metadata": {},
   "source": [
    "# importing libraries"
   ]
  },
  {
   "cell_type": "code",
   "execution_count": 1,
   "id": "e689d9b4-d80c-42cb-b971-ea0faa7f72c9",
   "metadata": {},
   "outputs": [],
   "source": [
    "import numpy as np\n",
    "import pandas as pd\n",
    "import matplotlib.pyplot as plt\n",
    "from drawdata import draw_scatter\n",
    "from itertools import combinations_with_replacement\n",
    "from sklearn.model_selection import train_test_split"
   ]
  },
  {
   "cell_type": "markdown",
   "id": "f797654c-97cf-4864-899d-cd914c41f9f4",
   "metadata": {},
   "source": [
    "# create a function to convert our linear features to polynomial features:\n",
    "- by this function we can learn models with non-linear (polynomial) decision boundary."
   ]
  },
  {
   "cell_type": "code",
   "execution_count": 2,
   "id": "ecbbe710-e148-4a98-a556-ca30ff4b94ba",
   "metadata": {},
   "outputs": [],
   "source": [
    "def calculate_polynomial_features(X, degree):\n",
    "    \"\"\"\n",
    "    X: numpy array\n",
    "    degree: integer\n",
    "    \"\"\"\n",
    "    n_samples, n_features = X.shape\n",
    "    result = np.ones((n_samples, 1))  # Start with a column of ones for the intercept term\n",
    "    \n",
    "    for d in range(1, degree + 1):\n",
    "        combinations = combinations_with_replacement(range(n_features), d)\n",
    "        for comb in combinations:\n",
    "            new_feature = np.prod(X[:, comb], axis=1).reshape(n_samples, 1)\n",
    "            result = np.hstack((result, new_feature))\n",
    "    \n",
    "    return result"
   ]
  },
  {
   "cell_type": "markdown",
   "id": "e5c2c3fc-0b47-463d-8408-d1baeac299b7",
   "metadata": {},
   "source": [
    "# predict function:\n",
    "- this is our hypothesis function = h(x)"
   ]
  },
  {
   "cell_type": "code",
   "execution_count": 3,
   "id": "d6db787a-f83b-4e17-8ffa-a5dae60484b3",
   "metadata": {},
   "outputs": [],
   "source": [
    "def predict(X, W, b):\n",
    "    return 1/(1+np.exp(-(np.matmul(X, W) + b)))"
   ]
  },
  {
   "cell_type": "markdown",
   "id": "931d0e90-69cc-4e6c-ac82-63e8e415f6ec",
   "metadata": {},
   "source": [
    "# cost fucntion:"
   ]
  },
  {
   "cell_type": "code",
   "execution_count": 4,
   "id": "993c09b8-851d-452b-b225-cc23a83682cd",
   "metadata": {},
   "outputs": [],
   "source": [
    "def cost_function(X, Y, W, b, lam):\n",
    "    m, n = X.shape\n",
    "    f_x_w_b = predict(X, W, b)\n",
    "    return -1*(np.sum(Y*np.log(f_x_w_b) + (1-Y)*np.log(1-f_x_w_b))/m) + lam*(np.dot(W, W)/(2*m))"
   ]
  },
  {
   "cell_type": "markdown",
   "id": "4aa39553-1ab6-4056-ad7c-81c42f902aa9",
   "metadata": {},
   "source": [
    "# gradient:\n",
    "- calculating gradient of waits and bias of model"
   ]
  },
  {
   "cell_type": "code",
   "execution_count": 5,
   "id": "86eed5c7-75ee-487e-88a3-a9f4624f27dd",
   "metadata": {},
   "outputs": [],
   "source": [
    "def gradient(X, Y, W, b, lam):\n",
    "    m, n = X.shape\n",
    "    f_x_w_b = predict(X, W, b)\n",
    "    w_gradient = (np.matmul(f_x_w_b - Y, X) + lam*W)/m\n",
    "    b_gradient = np.sum(f_x_w_b - Y)/m\n",
    "    return w_gradient, b_gradient"
   ]
  },
  {
   "cell_type": "markdown",
   "id": "12c07b77-3471-4cd2-8de1-040f1c93cac1",
   "metadata": {},
   "source": [
    "# gradient descent:"
   ]
  },
  {
   "cell_type": "code",
   "execution_count": 6,
   "id": "eef75a81-ccff-4f9d-873b-197542ae6c04",
   "metadata": {},
   "outputs": [],
   "source": [
    "def gradient_descent(W, b, w_gradient, b_gradient, alpha):\n",
    "    return W - alpha*w_gradient, b - alpha*b_gradient"
   ]
  },
  {
   "cell_type": "markdown",
   "id": "28bc260a-e541-4391-a9cc-59c31467187f",
   "metadata": {},
   "source": [
    "# creating dummy dataset:\n",
    "- creating dummy dataset to evaluate our model"
   ]
  },
  {
   "cell_type": "code",
   "execution_count": 7,
   "id": "945c2136-5c55-4b99-a05f-75687cf0b19e",
   "metadata": {},
   "outputs": [],
   "source": [
    "# draw_scatter()"
   ]
  },
  {
   "cell_type": "markdown",
   "id": "478ed2df-ec38-45ba-b5d7-e5b32575e031",
   "metadata": {},
   "source": [
    "# importing data set"
   ]
  },
  {
   "cell_type": "code",
   "execution_count": 8,
   "id": "ac558771-0332-47c7-9d65-b652a7d09572",
   "metadata": {},
   "outputs": [],
   "source": [
    "data = pd.read_csv('data.csv')"
   ]
  },
  {
   "cell_type": "code",
   "execution_count": 9,
   "id": "c7279c99-94dd-47c6-9900-7509ba9368da",
   "metadata": {},
   "outputs": [
    {
     "data": {
      "text/html": [
       "<div>\n",
       "<style scoped>\n",
       "    .dataframe tbody tr th:only-of-type {\n",
       "        vertical-align: middle;\n",
       "    }\n",
       "\n",
       "    .dataframe tbody tr th {\n",
       "        vertical-align: top;\n",
       "    }\n",
       "\n",
       "    .dataframe thead th {\n",
       "        text-align: right;\n",
       "    }\n",
       "</style>\n",
       "<table border=\"1\" class=\"dataframe\">\n",
       "  <thead>\n",
       "    <tr style=\"text-align: right;\">\n",
       "      <th></th>\n",
       "      <th>Pregnancies</th>\n",
       "      <th>Glucose</th>\n",
       "      <th>BloodPressure</th>\n",
       "      <th>SkinThickness</th>\n",
       "      <th>Insulin</th>\n",
       "      <th>BMI</th>\n",
       "      <th>DiabetesPedigreeFunction</th>\n",
       "      <th>Age</th>\n",
       "      <th>Outcome</th>\n",
       "    </tr>\n",
       "  </thead>\n",
       "  <tbody>\n",
       "    <tr>\n",
       "      <th>0</th>\n",
       "      <td>6</td>\n",
       "      <td>148</td>\n",
       "      <td>72</td>\n",
       "      <td>35</td>\n",
       "      <td>0</td>\n",
       "      <td>33.6</td>\n",
       "      <td>0.627</td>\n",
       "      <td>50</td>\n",
       "      <td>1</td>\n",
       "    </tr>\n",
       "    <tr>\n",
       "      <th>1</th>\n",
       "      <td>1</td>\n",
       "      <td>85</td>\n",
       "      <td>66</td>\n",
       "      <td>29</td>\n",
       "      <td>0</td>\n",
       "      <td>26.6</td>\n",
       "      <td>0.351</td>\n",
       "      <td>31</td>\n",
       "      <td>0</td>\n",
       "    </tr>\n",
       "    <tr>\n",
       "      <th>2</th>\n",
       "      <td>8</td>\n",
       "      <td>183</td>\n",
       "      <td>64</td>\n",
       "      <td>0</td>\n",
       "      <td>0</td>\n",
       "      <td>23.3</td>\n",
       "      <td>0.672</td>\n",
       "      <td>32</td>\n",
       "      <td>1</td>\n",
       "    </tr>\n",
       "    <tr>\n",
       "      <th>3</th>\n",
       "      <td>1</td>\n",
       "      <td>89</td>\n",
       "      <td>66</td>\n",
       "      <td>23</td>\n",
       "      <td>94</td>\n",
       "      <td>28.1</td>\n",
       "      <td>0.167</td>\n",
       "      <td>21</td>\n",
       "      <td>0</td>\n",
       "    </tr>\n",
       "    <tr>\n",
       "      <th>4</th>\n",
       "      <td>0</td>\n",
       "      <td>137</td>\n",
       "      <td>40</td>\n",
       "      <td>35</td>\n",
       "      <td>168</td>\n",
       "      <td>43.1</td>\n",
       "      <td>2.288</td>\n",
       "      <td>33</td>\n",
       "      <td>1</td>\n",
       "    </tr>\n",
       "    <tr>\n",
       "      <th>...</th>\n",
       "      <td>...</td>\n",
       "      <td>...</td>\n",
       "      <td>...</td>\n",
       "      <td>...</td>\n",
       "      <td>...</td>\n",
       "      <td>...</td>\n",
       "      <td>...</td>\n",
       "      <td>...</td>\n",
       "      <td>...</td>\n",
       "    </tr>\n",
       "    <tr>\n",
       "      <th>763</th>\n",
       "      <td>10</td>\n",
       "      <td>101</td>\n",
       "      <td>76</td>\n",
       "      <td>48</td>\n",
       "      <td>180</td>\n",
       "      <td>32.9</td>\n",
       "      <td>0.171</td>\n",
       "      <td>63</td>\n",
       "      <td>0</td>\n",
       "    </tr>\n",
       "    <tr>\n",
       "      <th>764</th>\n",
       "      <td>2</td>\n",
       "      <td>122</td>\n",
       "      <td>70</td>\n",
       "      <td>27</td>\n",
       "      <td>0</td>\n",
       "      <td>36.8</td>\n",
       "      <td>0.340</td>\n",
       "      <td>27</td>\n",
       "      <td>0</td>\n",
       "    </tr>\n",
       "    <tr>\n",
       "      <th>765</th>\n",
       "      <td>5</td>\n",
       "      <td>121</td>\n",
       "      <td>72</td>\n",
       "      <td>23</td>\n",
       "      <td>112</td>\n",
       "      <td>26.2</td>\n",
       "      <td>0.245</td>\n",
       "      <td>30</td>\n",
       "      <td>0</td>\n",
       "    </tr>\n",
       "    <tr>\n",
       "      <th>766</th>\n",
       "      <td>1</td>\n",
       "      <td>126</td>\n",
       "      <td>60</td>\n",
       "      <td>0</td>\n",
       "      <td>0</td>\n",
       "      <td>30.1</td>\n",
       "      <td>0.349</td>\n",
       "      <td>47</td>\n",
       "      <td>1</td>\n",
       "    </tr>\n",
       "    <tr>\n",
       "      <th>767</th>\n",
       "      <td>1</td>\n",
       "      <td>93</td>\n",
       "      <td>70</td>\n",
       "      <td>31</td>\n",
       "      <td>0</td>\n",
       "      <td>30.4</td>\n",
       "      <td>0.315</td>\n",
       "      <td>23</td>\n",
       "      <td>0</td>\n",
       "    </tr>\n",
       "  </tbody>\n",
       "</table>\n",
       "<p>768 rows × 9 columns</p>\n",
       "</div>"
      ],
      "text/plain": [
       "     Pregnancies  Glucose  BloodPressure  SkinThickness  Insulin   BMI  \\\n",
       "0              6      148             72             35        0  33.6   \n",
       "1              1       85             66             29        0  26.6   \n",
       "2              8      183             64              0        0  23.3   \n",
       "3              1       89             66             23       94  28.1   \n",
       "4              0      137             40             35      168  43.1   \n",
       "..           ...      ...            ...            ...      ...   ...   \n",
       "763           10      101             76             48      180  32.9   \n",
       "764            2      122             70             27        0  36.8   \n",
       "765            5      121             72             23      112  26.2   \n",
       "766            1      126             60              0        0  30.1   \n",
       "767            1       93             70             31        0  30.4   \n",
       "\n",
       "     DiabetesPedigreeFunction  Age  Outcome  \n",
       "0                       0.627   50        1  \n",
       "1                       0.351   31        0  \n",
       "2                       0.672   32        1  \n",
       "3                       0.167   21        0  \n",
       "4                       2.288   33        1  \n",
       "..                        ...  ...      ...  \n",
       "763                     0.171   63        0  \n",
       "764                     0.340   27        0  \n",
       "765                     0.245   30        0  \n",
       "766                     0.349   47        1  \n",
       "767                     0.315   23        0  \n",
       "\n",
       "[768 rows x 9 columns]"
      ]
     },
     "execution_count": 9,
     "metadata": {},
     "output_type": "execute_result"
    }
   ],
   "source": [
    "data"
   ]
  },
  {
   "cell_type": "markdown",
   "id": "bc6df139-9a3e-403a-a564-ad617a4b0c0d",
   "metadata": {},
   "source": [
    "# data cleaning:\n",
    "- removing outliers"
   ]
  },
  {
   "cell_type": "code",
   "execution_count": 10,
   "id": "d6903a3f-d585-4f61-8d24-3da82cad9b6d",
   "metadata": {},
   "outputs": [],
   "source": [
    "X = data.iloc[:, :-1]\n",
    "Y = data.iloc[:, -1]\n",
    "\n",
    "Y.drop(X[X.iloc[:, 1] < 25].index, inplace=True)\n",
    "X.drop(X[X.iloc[:, 1] < 25].index, inplace=True)\n",
    "\n",
    "Y.drop(X[X.iloc[:, 2] < 20].index, inplace=True)\n",
    "X.drop(X[X.iloc[:, 2] < 20].index, inplace=True)\n",
    "\n",
    "Y.drop(X[X.iloc[:, 3] > 80].index, inplace=True)\n",
    "X.drop(X[X.iloc[:, 3] > 80].index, inplace=True)\n",
    "\n",
    "Y.drop(X[X.iloc[:, 4] > 600].index, inplace=True)\n",
    "X.drop(X[X.iloc[:, 4] > 600].index, inplace=True)\n",
    "\n",
    "Y.drop(X[X.iloc[:, 5] > 55].index, inplace=True)\n",
    "X.drop(X[X.iloc[:, 5] > 55].index, inplace=True)\n",
    "Y.drop(X[X.iloc[:, 5] < 10].index, inplace=True)\n",
    "X.drop(X[X.iloc[:, 5] < 10].index, inplace=True)\n",
    "\n",
    "Y.drop(X[X.iloc[:, 6] > 1.75].index, inplace=True)\n",
    "X.drop(X[X.iloc[:, 6] > 1.75].index, inplace=True)\n",
    "\n",
    "Y.drop(X[X.iloc[:, 7] > 70].index, inplace=True)\n",
    "X.drop(X[X.iloc[:, 7] > 70].index, inplace=True)\n",
    "\n"
   ]
  },
  {
   "cell_type": "markdown",
   "id": "95b8d55d-9e2b-4175-9239-358a6b9a34e0",
   "metadata": {},
   "source": [
    "# feature scaling:"
   ]
  },
  {
   "cell_type": "code",
   "execution_count": 11,
   "id": "c1090ef5-57b4-4afb-8bed-b182efb07d3b",
   "metadata": {},
   "outputs": [],
   "source": [
    "feature_mean = X.mean()\n",
    "feature_std = X.std()\n",
    "X = (X - feature_mean) / feature_std"
   ]
  },
  {
   "cell_type": "markdown",
   "id": "c5553ec2-ce94-4431-9c63-d816178fb3b5",
   "metadata": {},
   "source": [
    "# splite data to train and test:\n",
    "- we create our poly features, then we splite our data into train and test"
   ]
  },
  {
   "cell_type": "code",
   "execution_count": 12,
   "id": "77fb2de5-fe67-4f27-a367-413f0417acc2",
   "metadata": {},
   "outputs": [],
   "source": [
    "degree = 2\n",
    "poly_features = calculate_polynomial_features(X.to_numpy(), degree)\n",
    "# mean, std_deviation = 0, 0.1\n",
    "# W, b = random_normal = np.random.normal(mean, std_deviation, poly_features.shape[1]), 1\n",
    "X_train, X_test, Y_train, Y_test = train_test_split(poly_features, Y, test_size=0.20, random_state=42)"
   ]
  },
  {
   "cell_type": "markdown",
   "id": "03472a89-074d-4512-b1b2-79850a046f95",
   "metadata": {},
   "source": [
    "# defining hyper parameters:"
   ]
  },
  {
   "cell_type": "code",
   "execution_count": 13,
   "id": "035baa72-502e-473e-9b69-22d8d6a95717",
   "metadata": {},
   "outputs": [],
   "source": [
    "lam, alpha = 1, 0.1\n",
    "W, b = np.ones(poly_features.shape[1]), 1"
   ]
  },
  {
   "cell_type": "markdown",
   "id": "330aa1a2-731d-4a41-8b61-b440a1698d95",
   "metadata": {},
   "source": [
    "# train our model:\n",
    "- update waits and bias"
   ]
  },
  {
   "cell_type": "code",
   "execution_count": 14,
   "id": "ade48d03-2493-45d6-bbc2-fc51c0f5970e",
   "metadata": {},
   "outputs": [
    {
     "name": "stderr",
     "output_type": "stream",
     "text": [
      "C:\\Users\\Lenovo\\AppData\\Local\\Temp\\ipykernel_21120\\2700598311.py:4: RuntimeWarning: divide by zero encountered in log\n",
      "  return -1*(np.sum(Y*np.log(f_x_w_b) + (1-Y)*np.log(1-f_x_w_b))/m) + lam*(np.dot(W, W)/(2*m))\n",
      "C:\\Users\\Lenovo\\AppData\\Local\\Temp\\ipykernel_21120\\2700598311.py:4: RuntimeWarning: invalid value encountered in multiply\n",
      "  return -1*(np.sum(Y*np.log(f_x_w_b) + (1-Y)*np.log(1-f_x_w_b))/m) + lam*(np.dot(W, W)/(2*m))\n"
     ]
    }
   ],
   "source": [
    "cost = []\n",
    "for i in range(5000):\n",
    "    w_gradient, b_gradient = gradient(X_train, Y_train.to_numpy(), W, b, lam)\n",
    "    W, b = gradient_descent(W, b, w_gradient, b_gradient, alpha)\n",
    "    cost.append(cost_function(X_train, Y_train.to_numpy(), W, b, lam))"
   ]
  },
  {
   "cell_type": "markdown",
   "id": "df91b9fa-1862-47ac-9eba-2be8dc43d2eb",
   "metadata": {},
   "source": [
    "# evaluating learning curve:"
   ]
  },
  {
   "cell_type": "code",
   "execution_count": 15,
   "id": "5a272c80-26a8-45c6-b205-32f9ffbf7198",
   "metadata": {},
   "outputs": [
    {
     "name": "stdout",
     "output_type": "stream",
     "text": [
      "nan 0.42588082792787124\n"
     ]
    },
    {
     "data": {
      "image/png": "[encoded data removed]",
      "text/plain": [
       "<Figure size 640x480 with 1 Axes>"
      ]
     },
     "metadata": {},
     "output_type": "display_data"
    }
   ],
   "source": [
    "plt.plot(cost[100:])\n",
    "print(cost[0], cost[-1])"
   ]
  },
  {
   "cell_type": "markdown",
   "id": "6e25a252-3bcf-4f53-8d10-0209fe53367c",
   "metadata": {},
   "source": [
    "# evaluating the model:"
   ]
  },
  {
   "cell_type": "code",
   "execution_count": 16,
   "id": "40e081d4-2309-4162-99ad-1858be2f6444",
   "metadata": {},
   "outputs": [
    {
     "data": {
      "text/plain": [
       "79.72027972027972"
      ]
     },
     "execution_count": 16,
     "metadata": {},
     "output_type": "execute_result"
    }
   ],
   "source": [
    "predict_test = predict(X_test, W, b)\n",
    "(np.sum(((predict_test > 0.5) + 0) == Y_test.to_numpy()) / Y_test.shape[0]) * 100"
   ]
  },
  {
   "cell_type": "code",
   "execution_count": 17,
   "id": "2a665d02-b598-436b-b453-3f4c480279a0",
   "metadata": {},
   "outputs": [
    {
     "data": {
      "text/plain": [
       "79.43760984182776"
      ]
     },
     "execution_count": 17,
     "metadata": {},
     "output_type": "execute_result"
    }
   ],
   "source": [
    "predict_train = predict(X_train, W, b)\n",
    "(np.sum(((predict_train > 0.5) + 0) == Y_train.to_numpy()) / Y_train.shape[0]) * 100"
   ]
  },
  {
   "cell_type": "markdown",
   "id": "5e4a0f94-e32b-4054-a818-68212f349239",
   "metadata": {},
   "source": [
    "# user interface:"
   ]
  },
  {
   "cell_type": "code",
   "execution_count": 28,
   "id": "ec978e9b-65b5-4f51-b4cd-3b419334664b",
   "metadata": {},
   "outputs": [
    {
     "name": "stdin",
     "output_type": "stream",
     "text": [
      "enter pregnancies:  3\n",
      "enter glucose:  78\n",
      "enter blood pressure:  50\n",
      "enter skin thickness:  32\n",
      "enter insulin:  88\n",
      "enter BMI:  31\n",
      "enter diabetes pedigree function:  0.3\n",
      "enter age:  26\n"
     ]
    },
    {
     "name": "stdout",
     "output_type": "stream",
     "text": [
      "your diabetes by 96.63 chance is negative.\n"
     ]
    }
   ],
   "source": [
    "x = []\n",
    "x.append(float(input('enter pregnancies: ')))\n",
    "x.append(float(input('enter glucose: ')))\n",
    "x.append(float(input('enter blood pressure: ')))\n",
    "x.append(float(input('enter skin thickness: ')))\n",
    "x.append(float(input('enter insulin: ')))\n",
    "x.append(float(input('enter BMI: ')))\n",
    "x.append(float(input('enter diabetes pedigree function: ')))\n",
    "x.append(float(input('enter age: ')))\n",
    "\n",
    "x = (x - feature_mean) / feature_std\n",
    "\n",
    "x = np.array([x])\n",
    "\n",
    "poly_x = calculate_polynomial_features(x, degree)\n",
    "\n",
    "prediction = round(predict(poly_x, W, b)[0] * 100, 2)\n",
    "\n",
    "if prediction >= 50:\n",
    "    print(f'your diabetes by {prediction}% chance is positive.')\n",
    "else:\n",
    "    print(f'your diabetes by {100 - prediction} chance is negative.')"
   ]
  },
  {
   "cell_type": "code",
   "execution_count": null,
   "id": "82ff6ed7-ed40-4959-97b3-0da98171db48",
   "metadata": {},
   "outputs": [],
   "source": []
  }
 ],
 "metadata": {
  "kernelspec": {
   "display_name": "Python 3 (ipykernel)",
   "language": "python",
   "name": "python3"
  },
  "language_info": {
   "codemirror_mode": {
    "name": "ipython",
    "version": 3
   },
   "file_extension": ".py",
   "mimetype": "text/x-python",
   "name": "python",
   "nbconvert_exporter": "python",
   "pygments_lexer": "ipython3",
   "version": "3.9.10"
  }
 },
 "nbformat": 4,
 "nbformat_minor": 5
}
